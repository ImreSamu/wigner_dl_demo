{
  "nbformat": 4,
  "nbformat_minor": 0,
  "metadata": {
    "colab": {
      "name": "nb_01_baby_steps.ipynb",
      "version": "0.3.2",
      "provenance": [],
      "collapsed_sections": [],
      "include_colab_link": true
    },
    "kernelspec": {
      "name": "python3",
      "display_name": "Python 3"
    },
    "accelerator": "GPU"
  },
  "cells": [
    {
      "cell_type": "markdown",
      "metadata": {
        "id": "view-in-github",
        "colab_type": "text"
      },
      "source": [
        "<a href=\"https://colab.research.google.com/github/riblidezso/wigner_dl_demo/blob/master/nb_01_baby_steps.ipynb\" target=\"_parent\"><img src=\"https://colab.research.google.com/assets/colab-badge.svg\" alt=\"Open In Colab\"/></a>"
      ]
    },
    {
      "metadata": {
        "id": "SlY6-tlM0Pcf",
        "colab_type": "text"
      },
      "cell_type": "markdown",
      "source": [
        "#  Baby steps in deep learning\n",
        "\n"
      ]
    },
    {
      "metadata": {
        "id": "tORtAyzl-2hK",
        "colab_type": "text"
      },
      "cell_type": "markdown",
      "source": [
        "### Load useful python packages"
      ]
    },
    {
      "metadata": {
        "id": "lSTgGCOC0XX0",
        "colab_type": "code",
        "colab": {
          "base_uri": "https://localhost:8080/",
          "height": 34
        },
        "outputId": "c0edc71f-921f-48c6-f5ca-797aed0cf5b8"
      },
      "cell_type": "code",
      "source": [
        "# plotting and numerical basics\n",
        "%pylab inline"
      ],
      "execution_count": 1,
      "outputs": [
        {
          "output_type": "stream",
          "text": [
            "Populating the interactive namespace from numpy and matplotlib\n"
          ],
          "name": "stdout"
        }
      ]
    },
    {
      "metadata": {
        "id": "eaRg3s1N0evC",
        "colab_type": "code",
        "colab": {}
      },
      "cell_type": "code",
      "source": [
        "# machine learning baselines\n",
        "import sklearn\n",
        "from sklearn.linear_model import LogisticRegression\n",
        "from sklearn.ensemble import RandomForestClassifier\n",
        "from sklearn.ensemble import GradientBoostingClassifier\n",
        "from sklearn.neural_network import MLPClassifier"
      ],
      "execution_count": 0,
      "outputs": []
    },
    {
      "metadata": {
        "id": "wBGBOvdV1UWO",
        "colab_type": "code",
        "colab": {}
      },
      "cell_type": "code",
      "source": [
        "# keras deep learning framework (with tensorflow backend)\n",
        "import keras\n",
        "from keras.models import Model\n",
        "import keras.layers as kl\n",
        "import keras.regularizers as kr\n",
        "import keras.optimizers as ko"
      ],
      "execution_count": 0,
      "outputs": []
    },
    {
      "metadata": {
        "id": "UpdlNa1D4Pf2",
        "colab_type": "code",
        "colab": {}
      },
      "cell_type": "code",
      "source": [
        "from IPython.display import SVG\n",
        "from keras.utils.vis_utils import model_to_dot"
      ],
      "execution_count": 0,
      "outputs": []
    },
    {
      "metadata": {
        "id": "g3xs6GXc5UX9",
        "colab_type": "text"
      },
      "cell_type": "markdown",
      "source": [
        "# MNIST handwritten digits dataset"
      ]
    },
    {
      "metadata": {
        "id": "IOprHOQQ084n",
        "colab_type": "code",
        "colab": {}
      },
      "cell_type": "code",
      "source": [
        "from keras.datasets import mnist\n",
        "# the data, split between train and test sets\n",
        "(x_train, y_train), (x_test, y_test) = mnist.load_data()"
      ],
      "execution_count": 0,
      "outputs": []
    },
    {
      "metadata": {
        "id": "WxYY1xqa4pXi",
        "colab_type": "text"
      },
      "cell_type": "markdown",
      "source": [
        "### Check some handwritten digits"
      ]
    },
    {
      "metadata": {
        "id": "QmFz_b464bvI",
        "colab_type": "code",
        "colab": {
          "base_uri": "https://localhost:8080/",
          "height": 282
        },
        "outputId": "7d852f38-7b28-4243-8c9c-e02382955e8c"
      },
      "cell_type": "code",
      "source": [
        "i = 4\n",
        "imshow(x_train[i])\n",
        "print('Label:', y_train[i] )"
      ],
      "execution_count": 56,
      "outputs": [
        {
          "output_type": "stream",
          "text": [
            "Label: 9\n"
          ],
          "name": "stdout"
        },
        {
          "output_type": "display_data",
          "data": {
            "image/png": "[encoded data removed]",
            "text/plain": [
              "<matplotlib.figure.Figure at 0x7fa0c00c0a20>"
            ]
          },
          "metadata": {
            "tags": []
          }
        }
      ]
    },
    {
      "metadata": {
        "id": "SV94_cdD5IG6",
        "colab_type": "text"
      },
      "cell_type": "markdown",
      "source": [
        "### Some more info about the dataset"
      ]
    },
    {
      "metadata": {
        "id": "XWsLOlrq5Mg3",
        "colab_type": "code",
        "colab": {
          "base_uri": "https://localhost:8080/",
          "height": 68
        },
        "outputId": "463f4b6d-6580-42d1-ded8-0934e64db7f8"
      },
      "cell_type": "code",
      "source": [
        "print('x_train shape:', x_train.shape)\n",
        "print(x_train.shape[0], 'train samples')\n",
        "print(x_test.shape[0], 'test samples')"
      ],
      "execution_count": 57,
      "outputs": [
        {
          "output_type": "stream",
          "text": [
            "x_train shape: (60000, 28, 28)\n",
            "60000 train samples\n",
            "10000 test samples\n"
          ],
          "name": "stdout"
        }
      ]
    },
    {
      "metadata": {
        "id": "wvkn-WsC_fTZ",
        "colab_type": "text"
      },
      "cell_type": "markdown",
      "source": [
        "### Normalize pixel values to 0-1 range"
      ]
    },
    {
      "metadata": {
        "id": "iUtzCbS76B9Z",
        "colab_type": "code",
        "colab": {}
      },
      "cell_type": "code",
      "source": [
        "x_train = x_train.astype('float32')\n",
        "x_test = x_test.astype('float32')\n",
        "x_train = x_train/255\n",
        "x_test = x_test/255"
      ],
      "execution_count": 0,
      "outputs": []
    },
    {
      "metadata": {
        "id": "Z_YFFQAb_i4-",
        "colab_type": "text"
      },
      "cell_type": "markdown",
      "source": [
        "## Define functions for 'simple' machine learning baselines"
      ]
    },
    {
      "metadata": {
        "id": "Cxunmr078_MG",
        "colab_type": "code",
        "colab": {}
      },
      "cell_type": "code",
      "source": [
        "def train_baseline(model, x_train, y_train, N_train=60000, **kwargs):\n",
        "  \"\"\"Train a baseline sklearn model.\"\"\"\n",
        "  x_train_flat = x_train.reshape(x_train.shape[0],-1)  # flatten\n",
        "  clf = model(**kwargs)  # init machine learning model\n",
        "  clf.fit(x_train_flat[:N_train],y_train[:N_train])  # train it\n",
        "  return clf\n",
        "\n",
        "\n",
        "def test_baseline(clf, x_test, y_test):\n",
        "  \"\"\"Evaluate a baseline sklearn model.\"\"\"\n",
        "  x_test_flat = x_test.reshape(x_test.shape[0],-1)  # flatten\n",
        "  y_pred = clf.predict(x_test_flat)  # make predictions\n",
        "  acc = np.equal(y_pred, y_test).mean()  # calculate accuracy\n",
        "  print(clf.__class__.__name__, 'accuracy',acc)"
      ],
      "execution_count": 0,
      "outputs": []
    },
    {
      "metadata": {
        "id": "pKJ-f-BA_pUT",
        "colab_type": "text"
      },
      "cell_type": "markdown",
      "source": [
        "### Test logistic regression\n",
        "\n",
        "[Logistic regression](https://en.wikipedia.org/wiki/Logistic_regression)"
      ]
    },
    {
      "metadata": {
        "id": "22FhFqH_5dVX",
        "colab_type": "code",
        "colab": {
          "base_uri": "https://localhost:8080/",
          "height": 68
        },
        "outputId": "ffb9d94f-0e87-4c14-e0d3-4df9e2e07993"
      },
      "cell_type": "code",
      "source": [
        "%%time\n",
        "clf = train_baseline(LogisticRegression, x_train, y_train)\n",
        "test_baseline(clf, x_test, y_test)"
      ],
      "execution_count": 91,
      "outputs": [
        {
          "output_type": "stream",
          "text": [
            "LogisticRegression accuracy 0.9201\n",
            "CPU times: user 2min 21s, sys: 95.8 ms, total: 2min 21s\n",
            "Wall time: 2min 21s\n"
          ],
          "name": "stdout"
        }
      ]
    },
    {
      "metadata": {
        "id": "UsVCO4fa_-S-",
        "colab_type": "text"
      },
      "cell_type": "markdown",
      "source": [
        "### Test Random Forest\n",
        "\n",
        "[Random Forest](https://en.wikipedia.org/wiki/Random_forest)"
      ]
    },
    {
      "metadata": {
        "id": "GR4-9Pc48VWu",
        "colab_type": "code",
        "colab": {
          "base_uri": "https://localhost:8080/",
          "height": 68
        },
        "outputId": "1133b061-01dc-4a06-87e1-2cc4a95ba59f"
      },
      "cell_type": "code",
      "source": [
        "%%time\n",
        "clf = train_baseline(RandomForestClassifier, x_train, y_train,\n",
        "                    n_jobs=-1, n_estimators = 300)\n",
        "test_baseline(clf, x_test, y_test)"
      ],
      "execution_count": 95,
      "outputs": [
        {
          "output_type": "stream",
          "text": [
            "RandomForestClassifier accuracy 0.971\n",
            "CPU times: user 4min 14s, sys: 448 ms, total: 4min 15s\n",
            "Wall time: 2min 10s\n"
          ],
          "name": "stdout"
        }
      ]
    },
    {
      "metadata": {
        "id": "cFnv2QJ_Cs7J",
        "colab_type": "text"
      },
      "cell_type": "markdown",
      "source": [
        "### Test a simple neural network"
      ]
    },
    {
      "metadata": {
        "id": "vj5aM27zP-S2",
        "colab_type": "code",
        "colab": {
          "base_uri": "https://localhost:8080/",
          "height": 68
        },
        "outputId": "00317f8a-8b13-4686-dd69-8a812098e041"
      },
      "cell_type": "code",
      "source": [
        "%%time\n",
        "clf = train_baseline(MLPClassifier, x_train, y_train)\n",
        "test_baseline(clf, x_test, y_test)"
      ],
      "execution_count": 105,
      "outputs": [
        {
          "output_type": "stream",
          "text": [
            "MLPClassifier accuracy 0.9776\n",
            "CPU times: user 2min 11s, sys: 39.3 s, total: 2min 50s\n",
            "Wall time: 1min 26s\n"
          ],
          "name": "stdout"
        }
      ]
    },
    {
      "metadata": {
        "id": "WdQhqG88QzYN",
        "colab_type": "code",
        "colab": {
          "base_uri": "https://localhost:8080/",
          "height": 136
        },
        "outputId": "a21a3f5a-7a3d-4a1d-fde8-42664128b860"
      },
      "cell_type": "code",
      "source": [
        "# see the params\n",
        "clf"
      ],
      "execution_count": 106,
      "outputs": [
        {
          "output_type": "execute_result",
          "data": {
            "text/plain": [
              "MLPClassifier(activation='relu', alpha=0.0001, batch_size='auto', beta_1=0.9,\n",
              "       beta_2=0.999, early_stopping=False, epsilon=1e-08,\n",
              "       hidden_layer_sizes=(100,), learning_rate='constant',\n",
              "       learning_rate_init=0.001, max_iter=200, momentum=0.9,\n",
              "       nesterovs_momentum=True, power_t=0.5, random_state=None,\n",
              "       shuffle=True, solver='adam', tol=0.0001, validation_fraction=0.1,\n",
              "       verbose=False, warm_start=False)"
            ]
          },
          "metadata": {
            "tags": []
          },
          "execution_count": 106
        }
      ]
    },
    {
      "metadata": {
        "id": "AZlPR705Qk1w",
        "colab_type": "text"
      },
      "cell_type": "markdown",
      "source": [
        "### Implement our own neural network for more control!"
      ]
    },
    {
      "metadata": {
        "id": "9eq1NvvxPZId",
        "colab_type": "code",
        "colab": {
          "base_uri": "https://localhost:8080/",
          "height": 238
        },
        "outputId": "b7b2384d-7ee7-48fb-b4e1-a1f2ef2d5a28"
      },
      "cell_type": "code",
      "source": [
        "N1 = 100\n",
        "inp = kl.Input(shape=(28*28,),name='input')  # the input data tensor\n",
        "x = kl.Dense(N1, activation='relu')(inp)  # first dense layer\n",
        "x = kl.Dense(10, activation='softmax')(x)  # prediction layer\n",
        "clf = Model(inputs=inp, outputs=x)  # define the model\n",
        "clf.compile(loss='sparse_categorical_crossentropy',optimizer='adam',\n",
        "           metrics=['accuracy'])\n",
        "clf.summary()"
      ],
      "execution_count": 151,
      "outputs": [
        {
          "output_type": "stream",
          "text": [
            "_________________________________________________________________\n",
            "Layer (type)                 Output Shape              Param #   \n",
            "=================================================================\n",
            "input (InputLayer)           (None, 784)               0         \n",
            "_________________________________________________________________\n",
            "dense_47 (Dense)             (None, 100)               78500     \n",
            "_________________________________________________________________\n",
            "dense_48 (Dense)             (None, 10)                1010      \n",
            "=================================================================\n",
            "Total params: 79,510\n",
            "Trainable params: 79,510\n",
            "Non-trainable params: 0\n",
            "_________________________________________________________________\n"
          ],
          "name": "stdout"
        }
      ]
    },
    {
      "metadata": {
        "id": "Cj6_7DP1R7EA",
        "colab_type": "code",
        "colab": {
          "base_uri": "https://localhost:8080/",
          "height": 391
        },
        "outputId": "b78dda42-148d-4bbc-bfa8-3ea73e35a429"
      },
      "cell_type": "code",
      "source": [
        "# Train it\n",
        "clf.fit(x_train.reshape(x_train.shape[0],-1), y_train, epochs=10,batch_size=256,\n",
        "        validation_data=(x_test.reshape(x_test.shape[0],-1), y_test))"
      ],
      "execution_count": 153,
      "outputs": [
        {
          "output_type": "stream",
          "text": [
            "Train on 60000 samples, validate on 10000 samples\n",
            "Epoch 1/10\n",
            "60000/60000 [==============================] - 2s 38us/step - loss: 0.4828 - acc: 0.8703 - val_loss: 0.2485 - val_acc: 0.9317\n",
            "Epoch 2/10\n",
            "60000/60000 [==============================] - 1s 22us/step - loss: 0.2171 - acc: 0.9395 - val_loss: 0.1824 - val_acc: 0.9470\n",
            "Epoch 3/10\n",
            "60000/60000 [==============================] - 1s 22us/step - loss: 0.1635 - acc: 0.9539 - val_loss: 0.1457 - val_acc: 0.9582\n",
            "Epoch 4/10\n",
            "60000/60000 [==============================] - 1s 22us/step - loss: 0.1323 - acc: 0.9628 - val_loss: 0.1264 - val_acc: 0.9621\n",
            "Epoch 5/10\n",
            "60000/60000 [==============================] - 1s 22us/step - loss: 0.1109 - acc: 0.9688 - val_loss: 0.1153 - val_acc: 0.9654\n",
            "Epoch 6/10\n",
            "60000/60000 [==============================] - 1s 22us/step - loss: 0.0949 - acc: 0.9734 - val_loss: 0.1058 - val_acc: 0.9684\n",
            "Epoch 7/10\n",
            "60000/60000 [==============================] - 1s 22us/step - loss: 0.0828 - acc: 0.9767 - val_loss: 0.0991 - val_acc: 0.9705\n",
            "Epoch 8/10\n",
            "60000/60000 [==============================] - 1s 23us/step - loss: 0.0733 - acc: 0.9798 - val_loss: 0.0959 - val_acc: 0.9700\n",
            "Epoch 9/10\n",
            "60000/60000 [==============================] - 1s 22us/step - loss: 0.0650 - acc: 0.9820 - val_loss: 0.0892 - val_acc: 0.9727\n",
            "Epoch 10/10\n",
            "60000/60000 [==============================] - 1s 22us/step - loss: 0.0578 - acc: 0.9841 - val_loss: 0.0863 - val_acc: 0.9742\n"
          ],
          "name": "stdout"
        },
        {
          "output_type": "execute_result",
          "data": {
            "text/plain": [
              "<keras.callbacks.History at 0x7fa0a3e5c940>"
            ]
          },
          "metadata": {
            "tags": []
          },
          "execution_count": 153
        }
      ]
    },
    {
      "metadata": {
        "id": "aWVMy5zsUyJN",
        "colab_type": "text"
      },
      "cell_type": "markdown",
      "source": [
        "## Try a larger network? "
      ]
    },
    {
      "metadata": {
        "id": "BQuMdVS8SnOm",
        "colab_type": "code",
        "colab": {
          "base_uri": "https://localhost:8080/",
          "height": 340
        },
        "outputId": "e41107c0-3af8-4955-8e44-17e3641df2d9"
      },
      "cell_type": "code",
      "source": [
        "N1,N2 = 1024,512\n",
        "inp = kl.Input(shape=(28*28,),name='input')\n",
        "x = kl.Dense(N1, activation='relu')(inp)  # first dense layer\n",
        "x = kl.Dropout(0.5)(x)\n",
        "x = kl.Dense(N2, activation='relu')(x)  # first dense layer\n",
        "x = kl.Dropout(0.25)(x)\n",
        "x = kl.Dense(10, activation='softmax')(x)  #prediction layers\n",
        "clf = Model(inputs=inp, outputs=x)\n",
        "clf.compile(loss='sparse_categorical_crossentropy',optimizer='adam',\n",
        "           metrics=['accuracy'])\n",
        "clf.summary()"
      ],
      "execution_count": 154,
      "outputs": [
        {
          "output_type": "stream",
          "text": [
            "_________________________________________________________________\n",
            "Layer (type)                 Output Shape              Param #   \n",
            "=================================================================\n",
            "input (InputLayer)           (None, 784)               0         \n",
            "_________________________________________________________________\n",
            "dense_49 (Dense)             (None, 1024)              803840    \n",
            "_________________________________________________________________\n",
            "dropout_24 (Dropout)         (None, 1024)              0         \n",
            "_________________________________________________________________\n",
            "dense_50 (Dense)             (None, 512)               524800    \n",
            "_________________________________________________________________\n",
            "dropout_25 (Dropout)         (None, 512)               0         \n",
            "_________________________________________________________________\n",
            "dense_51 (Dense)             (None, 10)                5130      \n",
            "=================================================================\n",
            "Total params: 1,333,770\n",
            "Trainable params: 1,333,770\n",
            "Non-trainable params: 0\n",
            "_________________________________________________________________\n"
          ],
          "name": "stdout"
        }
      ]
    },
    {
      "metadata": {
        "id": "nCdVUJwrTPVk",
        "colab_type": "code",
        "colab": {
          "base_uri": "https://localhost:8080/",
          "height": 391
        },
        "outputId": "75365f1b-d799-482e-c549-161a3a11eaf2"
      },
      "cell_type": "code",
      "source": [
        "# Train it\n",
        "clf.fit(x_train.reshape(x_train.shape[0],-1),y_train, epochs=10, batch_size=256,\n",
        "        validation_data=(x_test.reshape(x_test.shape[0],-1), y_test))"
      ],
      "execution_count": 156,
      "outputs": [
        {
          "output_type": "stream",
          "text": [
            "Train on 60000 samples, validate on 10000 samples\n",
            "Epoch 1/10\n",
            "60000/60000 [==============================] - 3s 56us/step - loss: 0.3121 - acc: 0.9073 - val_loss: 0.1112 - val_acc: 0.9663\n",
            "Epoch 2/10\n",
            "60000/60000 [==============================] - 2s 37us/step - loss: 0.1312 - acc: 0.9605 - val_loss: 0.0808 - val_acc: 0.9759\n",
            "Epoch 3/10\n",
            "60000/60000 [==============================] - 2s 37us/step - loss: 0.0993 - acc: 0.9685 - val_loss: 0.0826 - val_acc: 0.9739\n",
            "Epoch 4/10\n",
            "60000/60000 [==============================] - 2s 37us/step - loss: 0.0804 - acc: 0.9747 - val_loss: 0.0646 - val_acc: 0.9805\n",
            "Epoch 5/10\n",
            "60000/60000 [==============================] - 2s 37us/step - loss: 0.0692 - acc: 0.9783 - val_loss: 0.0652 - val_acc: 0.9801\n",
            "Epoch 6/10\n",
            "60000/60000 [==============================] - 2s 37us/step - loss: 0.0594 - acc: 0.9814 - val_loss: 0.0618 - val_acc: 0.9817\n",
            "Epoch 7/10\n",
            "60000/60000 [==============================] - 2s 37us/step - loss: 0.0543 - acc: 0.9826 - val_loss: 0.0619 - val_acc: 0.9809\n",
            "Epoch 8/10\n",
            "60000/60000 [==============================] - 2s 37us/step - loss: 0.0495 - acc: 0.9844 - val_loss: 0.0537 - val_acc: 0.9845\n",
            "Epoch 9/10\n",
            "60000/60000 [==============================] - 2s 37us/step - loss: 0.0457 - acc: 0.9848 - val_loss: 0.0600 - val_acc: 0.9842\n",
            "Epoch 10/10\n",
            "60000/60000 [==============================] - 2s 37us/step - loss: 0.0434 - acc: 0.9852 - val_loss: 0.0601 - val_acc: 0.9819\n"
          ],
          "name": "stdout"
        },
        {
          "output_type": "execute_result",
          "data": {
            "text/plain": [
              "<keras.callbacks.History at 0x7fa0a3e46908>"
            ]
          },
          "metadata": {
            "tags": []
          },
          "execution_count": 156
        }
      ]
    },
    {
      "metadata": {
        "id": "0YwDpXiNVa6Z",
        "colab_type": "text"
      },
      "cell_type": "markdown",
      "source": [
        "# Convolutional neural networks!"
      ]
    },
    {
      "metadata": {
        "id": "yUFwkajOOsFx",
        "colab_type": "code",
        "colab": {}
      },
      "cell_type": "code",
      "source": [
        "# need to create 1 ' color channel'\n",
        "x_train = x_train.reshape(x_train.shape[0], img_rows, img_cols, 1)\n",
        "x_test = x_test.reshape(x_test.shape[0], img_rows, img_cols, 1)"
      ],
      "execution_count": 0,
      "outputs": []
    },
    {
      "metadata": {
        "id": "gIDD66cFVjXJ",
        "colab_type": "code",
        "colab": {
          "base_uri": "https://localhost:8080/",
          "height": 544
        },
        "outputId": "5e6ac44c-771b-4a66-9336-5fd4d21b2cf0"
      },
      "cell_type": "code",
      "source": [
        "N1,N2,N3 = 32,64,128\n",
        "inp = kl.Input(shape=(28,28,1),name='input')\n",
        "x = kl.Conv2D(N1, kernel_size=(3, 3), activation='relu')(inp)\n",
        "x = kl.Conv2D(N1, (3, 3), activation='relu')(x)\n",
        "x = kl.MaxPooling2D(pool_size=(2, 2))(x)\n",
        "x = kl.Conv2D(N2, (3, 3), activation='relu')(x)\n",
        "x = kl.Conv2D(N2, (3, 3), activation='relu')(x)\n",
        "x = kl.MaxPooling2D(pool_size=(2, 2))(x)\n",
        "x = kl.Dropout(0.25)(x)\n",
        "x = kl.Flatten()(x)\n",
        "x = kl.Dense(N3, activation='relu')(x)  # first dense layer\n",
        "x = kl.Dropout(0.5)(x)\n",
        "x = kl.Dense(10, activation='softmax')(x)  #prediction layers\n",
        "clf = Model(inputs=inp, outputs=x)\n",
        "clf.compile(loss='sparse_categorical_crossentropy',optimizer='adam',\n",
        "           metrics=['accuracy'])\n",
        "clf.summary()"
      ],
      "execution_count": 160,
      "outputs": [
        {
          "output_type": "stream",
          "text": [
            "_________________________________________________________________\n",
            "Layer (type)                 Output Shape              Param #   \n",
            "=================================================================\n",
            "input (InputLayer)           (None, 28, 28, 1)         0         \n",
            "_________________________________________________________________\n",
            "conv2d_24 (Conv2D)           (None, 26, 26, 32)        320       \n",
            "_________________________________________________________________\n",
            "conv2d_25 (Conv2D)           (None, 24, 24, 32)        9248      \n",
            "_________________________________________________________________\n",
            "max_pooling2d_12 (MaxPooling (None, 12, 12, 32)        0         \n",
            "_________________________________________________________________\n",
            "conv2d_26 (Conv2D)           (None, 10, 10, 64)        18496     \n",
            "_________________________________________________________________\n",
            "conv2d_27 (Conv2D)           (None, 8, 8, 64)          36928     \n",
            "_________________________________________________________________\n",
            "max_pooling2d_13 (MaxPooling (None, 4, 4, 64)          0         \n",
            "_________________________________________________________________\n",
            "dropout_28 (Dropout)         (None, 4, 4, 64)          0         \n",
            "_________________________________________________________________\n",
            "flatten_9 (Flatten)          (None, 1024)              0         \n",
            "_________________________________________________________________\n",
            "dense_54 (Dense)             (None, 128)               131200    \n",
            "_________________________________________________________________\n",
            "dropout_29 (Dropout)         (None, 128)               0         \n",
            "_________________________________________________________________\n",
            "dense_55 (Dense)             (None, 10)                1290      \n",
            "=================================================================\n",
            "Total params: 197,482\n",
            "Trainable params: 197,482\n",
            "Non-trainable params: 0\n",
            "_________________________________________________________________\n"
          ],
          "name": "stdout"
        }
      ]
    },
    {
      "metadata": {
        "id": "e_ShxAqQWYc9",
        "colab_type": "code",
        "colab": {
          "base_uri": "https://localhost:8080/",
          "height": 391
        },
        "outputId": "08908ed4-be33-4aa8-ceb8-32eca042adfd"
      },
      "cell_type": "code",
      "source": [
        "# Train it\n",
        "clf.fit(x_train,y_train, epochs=10, validation_split=0.1, batch_size=256,\n",
        "        validation_data = (x_test, y_test))"
      ],
      "execution_count": 161,
      "outputs": [
        {
          "output_type": "stream",
          "text": [
            "Train on 60000 samples, validate on 10000 samples\n",
            "Epoch 1/10\n",
            "60000/60000 [==============================] - 8s 142us/step - loss: 0.3722 - acc: 0.8816 - val_loss: 0.0545 - val_acc: 0.9824\n",
            "Epoch 2/10\n",
            "60000/60000 [==============================] - 7s 109us/step - loss: 0.0936 - acc: 0.9719 - val_loss: 0.0352 - val_acc: 0.9877\n",
            "Epoch 3/10\n",
            "60000/60000 [==============================] - 7s 109us/step - loss: 0.0660 - acc: 0.9799 - val_loss: 0.0280 - val_acc: 0.9910\n",
            "Epoch 4/10\n",
            "60000/60000 [==============================] - 7s 109us/step - loss: 0.0515 - acc: 0.9841 - val_loss: 0.0269 - val_acc: 0.9914\n",
            "Epoch 5/10\n",
            "60000/60000 [==============================] - 7s 109us/step - loss: 0.0448 - acc: 0.9869 - val_loss: 0.0262 - val_acc: 0.9916\n",
            "Epoch 6/10\n",
            "60000/60000 [==============================] - 7s 109us/step - loss: 0.0393 - acc: 0.9882 - val_loss: 0.0260 - val_acc: 0.9911\n",
            "Epoch 7/10\n",
            "60000/60000 [==============================] - 7s 109us/step - loss: 0.0345 - acc: 0.9896 - val_loss: 0.0249 - val_acc: 0.9920\n",
            "Epoch 8/10\n",
            "60000/60000 [==============================] - 7s 109us/step - loss: 0.0301 - acc: 0.9907 - val_loss: 0.0190 - val_acc: 0.9940\n",
            "Epoch 9/10\n",
            "60000/60000 [==============================] - 7s 109us/step - loss: 0.0276 - acc: 0.9916 - val_loss: 0.0193 - val_acc: 0.9941\n",
            "Epoch 10/10\n",
            "60000/60000 [==============================] - 7s 109us/step - loss: 0.0258 - acc: 0.9917 - val_loss: 0.0174 - val_acc: 0.9943\n"
          ],
          "name": "stdout"
        },
        {
          "output_type": "execute_result",
          "data": {
            "text/plain": [
              "<keras.callbacks.History at 0x7fa0a2c734e0>"
            ]
          },
          "metadata": {
            "tags": []
          },
          "execution_count": 161
        }
      ]
    },
    {
      "metadata": {
        "id": "bxQ_PsbXYgpN",
        "colab_type": "text"
      },
      "cell_type": "markdown",
      "source": [
        "---\n",
        "\n",
        "\n",
        "# 97.5 or 99.4 meh? Let's see a more impressive example: CIFAR10\n",
        "\n",
        "[CIFAR10 website](https://www.cs.toronto.edu/~kriz/cifar.html)"
      ]
    },
    {
      "metadata": {
        "id": "Jy5oaMhmY8W8",
        "colab_type": "code",
        "colab": {}
      },
      "cell_type": "code",
      "source": [
        "from keras.datasets import cifar10\n",
        "# the data, split between train and test sets\n",
        "(x_train, y_train), (x_test, y_test) = cifar10.load_data()\n",
        "mnist_classes = ['airplane', 'automobile', 'bird', 'cat', 'deer', 'dog', 'frog',\n",
        "                 'horse','ship', 'truck']"
      ],
      "execution_count": 0,
      "outputs": []
    },
    {
      "metadata": {
        "id": "8sKRv3Eyc_C5",
        "colab_type": "text"
      },
      "cell_type": "markdown",
      "source": [
        "## Test yourself at home! \n",
        "\n",
        "I can do around 96%"
      ]
    },
    {
      "metadata": {
        "id": "AMr3HKuQZDPq",
        "colab_type": "code",
        "colab": {
          "base_uri": "https://localhost:8080/",
          "height": 283
        },
        "outputId": "96c52b17-228f-4954-fed0-19ec4a71a2e1"
      },
      "cell_type": "code",
      "source": [
        "i = 7\n",
        "imshow(x_train[i])\n",
        "plt.axis('off')\n",
        "print('Label:', mnist_classes[ int(y_train[i]) ])"
      ],
      "execution_count": 176,
      "outputs": [
        {
          "output_type": "stream",
          "text": [
            "Label: horse\n"
          ],
          "name": "stdout"
        },
        {
          "output_type": "display_data",
          "data": {
            "image/png": "[encoded data removed]",
            "text/plain": [
              "<matplotlib.figure.Figure at 0x7fa0a1b91390>"
            ]
          },
          "metadata": {
            "tags": []
          }
        }
      ]
    },
    {
      "metadata": {
        "id": "KvoY-YSUdVE7",
        "colab_type": "text"
      },
      "cell_type": "markdown",
      "source": [
        "#### Some info"
      ]
    },
    {
      "metadata": {
        "id": "zlKtkvg6dYaI",
        "colab_type": "code",
        "colab": {
          "base_uri": "https://localhost:8080/",
          "height": 68
        },
        "outputId": "8f0cf032-ba5e-43c8-b168-cbbc9c2a5aed"
      },
      "cell_type": "code",
      "source": [
        "print('x_train shape:', x_train.shape)\n",
        "print(x_train.shape[0], 'train samples')\n",
        "print(x_test.shape[0], 'test samples')"
      ],
      "execution_count": 177,
      "outputs": [
        {
          "output_type": "stream",
          "text": [
            "x_train shape: (50000, 32, 32, 3)\n",
            "50000 train samples\n",
            "10000 test samples\n"
          ],
          "name": "stdout"
        }
      ]
    },
    {
      "metadata": {
        "id": "strh_HjpdPyG",
        "colab_type": "text"
      },
      "cell_type": "markdown",
      "source": [
        "#### Normalize data again"
      ]
    },
    {
      "metadata": {
        "id": "7iZrVCLPcPLZ",
        "colab_type": "code",
        "colab": {}
      },
      "cell_type": "code",
      "source": [
        "x_train = x_train.astype('float32')\n",
        "x_test = x_test.astype('float32')\n",
        "x_train = x_train/255\n",
        "x_test = x_test/255"
      ],
      "execution_count": 0,
      "outputs": []
    },
    {
      "metadata": {
        "id": "hWJ17ayRdf3v",
        "colab_type": "text"
      },
      "cell_type": "markdown",
      "source": [
        "### Baselines"
      ]
    },
    {
      "metadata": {
        "id": "TwxvpOupeJFs",
        "colab_type": "code",
        "colab": {}
      },
      "cell_type": "code",
      "source": [
        "%%time\n",
        "clf = train_baseline(LogisticRegression, x_train, y_train.flatten(),\n",
        "                     N_train = 1000)\n",
        "test_baseline(clf, x_test, y_test.flatten())"
      ],
      "execution_count": 0,
      "outputs": []
    },
    {
      "metadata": {
        "id": "2RK6D9lldhjd",
        "colab_type": "code",
        "colab": {
          "base_uri": "https://localhost:8080/",
          "height": 68
        },
        "outputId": "5f60acad-24e5-4c05-8407-9a9d3748152f"
      },
      "cell_type": "code",
      "source": [
        "%%time\n",
        "clf = train_baseline(RandomForestClassifier, x_train, y_train.flatten(),\n",
        "                    n_jobs=-1, n_estimators = 100)\n",
        "test_baseline(clf, x_test, y_test.flatten())"
      ],
      "execution_count": 181,
      "outputs": [
        {
          "output_type": "stream",
          "text": [
            "RandomForestClassifier accuracy 0.467\n",
            "CPU times: user 6min 44s, sys: 0 ns, total: 6min 44s\n",
            "Wall time: 3min 26s\n"
          ],
          "name": "stdout"
        }
      ]
    },
    {
      "metadata": {
        "id": "bFDinMXnePj4",
        "colab_type": "text"
      },
      "cell_type": "markdown",
      "source": [
        "### OK, so this is much harder. Let's see neural nets!"
      ]
    },
    {
      "metadata": {
        "id": "e0yviJBxeO7q",
        "colab_type": "code",
        "colab": {}
      },
      "cell_type": "code",
      "source": [
        ""
      ],
      "execution_count": 0,
      "outputs": []
    },
    {
      "metadata": {
        "id": "jGewUzgZdrTJ",
        "colab_type": "code",
        "colab": {
          "base_uri": "https://localhost:8080/",
          "height": 34
        },
        "outputId": "6e85dba2-6b1e-45a3-a0c7-4ba808cff108"
      },
      "cell_type": "code",
      "source": [
        "y_train.shape"
      ],
      "execution_count": 179,
      "outputs": [
        {
          "output_type": "execute_result",
          "data": {
            "text/plain": [
              "(50000, 1)"
            ]
          },
          "metadata": {
            "tags": []
          },
          "execution_count": 179
        }
      ]
    },
    {
      "metadata": {
        "id": "MDzodQKC1Kin",
        "colab_type": "code",
        "colab": {}
      },
      "cell_type": "code",
      "source": [
        "model = Sequential()\n",
        "model.add(Conv2D(32, kernel_size=(3, 3),\n",
        "                 activation='relu',\n",
        "                 input_shape=input_shape))\n",
        "model.add(Conv2D(64, (3, 3), activation='relu'))\n",
        "model.add(MaxPooling2D(pool_size=(2, 2)))\n",
        "model.add(Dropout(0.25))\n",
        "model.add(Flatten())\n",
        "model.add(Dense(128, activation='relu'))\n",
        "model.add(Dropout(0.5))\n",
        "model.add(Dense(num_classes, activation='softmax'))"
      ],
      "execution_count": 0,
      "outputs": []
    },
    {
      "metadata": {
        "id": "b6MUhTJf1PbK",
        "colab_type": "code",
        "colab": {}
      },
      "cell_type": "code",
      "source": [
        "model.compile(loss=keras.losses.sparse_categorical_crossentropy,\n",
        "              optimizer=keras.optimizers.Adadelta(),\n",
        "              metrics=['accuracy'])"
      ],
      "execution_count": 0,
      "outputs": []
    },
    {
      "metadata": {
        "id": "DTdg9rVa1Qd-",
        "colab_type": "code",
        "colab": {
          "base_uri": "https://localhost:8080/",
          "height": 1000
        },
        "outputId": "592897ab-1ef6-4974-9293-a3ccff01cb64"
      },
      "cell_type": "code",
      "source": [
        "model.fit(x_train, y_train,\n",
        "          batch_size=batch_size,\n",
        "          epochs=epochs,\n",
        "          verbose=1,\n",
        "          validation_data=(x_test, y_test))\n",
        "score = model.evaluate(x_test, y_test, verbose=0)\n",
        "print('Test loss:', score[0])\n",
        "print('Test accuracy:', score[1])"
      ],
      "execution_count": 12,
      "outputs": [
        {
          "output_type": "stream",
          "text": [
            "Train on 60000 samples, validate on 10000 samples\n",
            "Epoch 1/12\n",
            "60000/60000 [==============================] - 13s 218us/step - loss: 0.2622 - acc: 0.9190 - val_loss: 0.0611 - val_acc: 0.9798\n",
            "Epoch 2/12\n",
            "60000/60000 [==============================] - 9s 146us/step - loss: 0.0885 - acc: 0.9736 - val_loss: 0.0382 - val_acc: 0.9866\n",
            "Epoch 3/12\n",
            "60000/60000 [==============================] - 9s 145us/step - loss: 0.0643 - acc: 0.9810 - val_loss: 0.0336 - val_acc: 0.9893\n",
            "Epoch 4/12\n",
            "60000/60000 [==============================] - 9s 145us/step - loss: 0.0538 - acc: 0.9844 - val_loss: 0.0306 - val_acc: 0.9901\n",
            "Epoch 5/12\n",
            "60000/60000 [==============================] - 9s 145us/step - loss: 0.0468 - acc: 0.9862 - val_loss: 0.0320 - val_acc: 0.9898\n",
            "Epoch 6/12\n",
            "60000/60000 [==============================] - 9s 146us/step - loss: 0.0422 - acc: 0.9871 - val_loss: 0.0321 - val_acc: 0.9889\n",
            "Epoch 7/12\n",
            "60000/60000 [==============================] - 9s 145us/step - loss: 0.0375 - acc: 0.9886 - val_loss: 0.0282 - val_acc: 0.9911\n",
            "Epoch 8/12\n",
            "60000/60000 [==============================] - 9s 145us/step - loss: 0.0335 - acc: 0.9898 - val_loss: 0.0300 - val_acc: 0.9900\n",
            "Epoch 9/12\n",
            "60000/60000 [==============================] - 9s 145us/step - loss: 0.0322 - acc: 0.9902 - val_loss: 0.0310 - val_acc: 0.9900\n",
            "Epoch 10/12\n",
            "60000/60000 [==============================] - 9s 145us/step - loss: 0.0300 - acc: 0.9903 - val_loss: 0.0284 - val_acc: 0.9915\n",
            "Epoch 11/12\n",
            "60000/60000 [==============================] - 9s 145us/step - loss: 0.0284 - acc: 0.9913 - val_loss: 0.0283 - val_acc: 0.9914\n",
            "Epoch 12/12\n",
            "60000/60000 [==============================] - 9s 145us/step - loss: 0.0264 - acc: 0.9919 - val_loss: 0.0292 - val_acc: 0.9902\n",
            "Test loss: 0.029214834698360573\n",
            "Test accuracy: 0.9902\n"
          ],
          "name": "stdout"
        }
      ]
    },
    {
      "metadata": {
        "id": "HPbXQN-z1l5m",
        "colab_type": "code",
        "colab": {}
      },
      "cell_type": "code",
      "source": [
        ""
      ],
      "execution_count": 0,
      "outputs": []
    }
  ]
}